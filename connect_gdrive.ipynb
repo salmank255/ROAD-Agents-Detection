{
  "nbformat": 4,
  "nbformat_minor": 0,
  "metadata": {
    "colab": {
      "provenance": [],
      "authorship_tag": "ABX9TyPusyMgakcNgj8GgdVxupWF",
      "include_colab_link": true
    },
    "kernelspec": {
      "name": "python3",
      "display_name": "Python 3"
    },
    "language_info": {
      "name": "python"
    }
  },
  "cells": [
    {
      "cell_type": "markdown",
      "metadata": {
        "id": "view-in-github",
        "colab_type": "text"
      },
      "source": [
        "<a href=\"https://colab.research.google.com/github/salmank255/ROAD-Agents-Detection/blob/main/connect_gdrive.ipynb\" target=\"_parent\"><img src=\"https://colab.research.google.com/assets/colab-badge.svg\" alt=\"Open In Colab\"/></a>"
      ]
    },
    {
      "cell_type": "markdown",
      "source": [
        "Firstly, create a shortcut of ROAD-Agent-Detection folder https://drive.google.com/drive/u/0/folders/1Y1XcSpdMU-vHnF_RjwQ-XAgJ2ovGBk61 , then run this:"
      ],
      "metadata": {
        "id": "7hicbFF8tu8E"
      }
    },
    {
      "cell_type": "code",
      "execution_count": 1,
      "metadata": {
        "colab": {
          "base_uri": "https://localhost:8080/"
        },
        "id": "pW1QFG44ttMx",
        "outputId": "99632bfd-a28d-439b-b6bf-407ad19a8a63"
      },
      "outputs": [
        {
          "output_type": "stream",
          "name": "stdout",
          "text": [
            "Mounted at /content/gdrive\n"
          ]
        }
      ],
      "source": [
        "from google.colab import drive\n",
        "drive.mount('/content/gdrive')"
      ]
    },
    {
      "cell_type": "markdown",
      "source": [
        "Next, check all the directories and files inside \"ROAD-Agent-Detection\""
      ],
      "metadata": {
        "id": "6wV2HrM2tt8y"
      }
    },
    {
      "cell_type": "code",
      "source": [
        "!ls \"/content/gdrive/MyDrive/ROAD-Dataset\""
      ],
      "metadata": {
        "colab": {
          "base_uri": "https://localhost:8080/"
        },
        "id": "1hVcs-FawVK5",
        "outputId": "007a2e82-c65f-48bd-a9c1-7fec490f538d"
      },
      "execution_count": 2,
      "outputs": [
        {
          "output_type": "stream",
          "name": "stdout",
          "text": [
            "test_set  test_set.json  train_set  train_set.json  val_set  val_set.json\n"
          ]
        }
      ]
    }
  ]
}