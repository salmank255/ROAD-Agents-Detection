{
  "cells": [
    {
      "cell_type": "markdown",
      "metadata": {
        "id": "7hicbFF8tu8E"
      },
      "source": [
        "Firstly, create a shortcut of ROAD-Agent-Detection folder https://drive.google.com/drive/u/5/folders/1Y1XcSpdMU-vHnF_RjwQ-XAgJ2ovGBk61 , then run this:"
      ]
    },
    {
      "cell_type": "code",
      "execution_count": 1,
      "metadata": {
        "colab": {
          "base_uri": "https://localhost:8080/"
        },
        "id": "pW1QFG44ttMx",
        "outputId": "4ea5f8cf-4fc7-445d-a995-597983c1258f"
      },
      "outputs": [
        {
          "ename": "ModuleNotFoundError",
          "evalue": "No module named 'google.colab'",
          "output_type": "error",
          "traceback": [
            "\u001b[0;31m---------------------------------------------------------------------------\u001b[0m",
            "\u001b[0;31mModuleNotFoundError\u001b[0m                       Traceback (most recent call last)",
            "\u001b[0;32m<ipython-input-1-4996ee3d8d09>\u001b[0m in \u001b[0;36m<module>\u001b[0;34m\u001b[0m\n\u001b[0;32m----> 1\u001b[0;31m \u001b[0;32mfrom\u001b[0m \u001b[0mgoogle\u001b[0m\u001b[0;34m.\u001b[0m\u001b[0mcolab\u001b[0m \u001b[0;32mimport\u001b[0m \u001b[0mdrive\u001b[0m\u001b[0;34m\u001b[0m\u001b[0;34m\u001b[0m\u001b[0m\n\u001b[0m\u001b[1;32m      2\u001b[0m \u001b[0mdrive\u001b[0m\u001b[0;34m.\u001b[0m\u001b[0mmount\u001b[0m\u001b[0;34m(\u001b[0m\u001b[0;34m'/content/gdrive'\u001b[0m\u001b[0;34m)\u001b[0m\u001b[0;34m\u001b[0m\u001b[0;34m\u001b[0m\u001b[0m\n",
            "\u001b[0;31mModuleNotFoundError\u001b[0m: No module named 'google.colab'"
          ]
        }
      ],
      "source": [
        "from google.colab import drive\n",
        "drive.mount('/content/gdrive')"
      ]
    },
    {
      "cell_type": "markdown",
      "metadata": {
        "id": "6wV2HrM2tt8y"
      },
      "source": [
        "Next, check all the directories and files inside \"ROAD-Agent-Detection\""
      ]
    },
    {
      "cell_type": "code",
      "execution_count": 4,
      "metadata": {
        "colab": {
          "base_uri": "https://localhost:8080/"
        },
        "id": "1hVcs-FawVK5",
        "outputId": "b76ab40e-9dfd-4a81-abd0-fb777c84028d"
      },
      "outputs": [
        {
          "name": "stdout",
          "output_type": "stream",
          "text": [
            "test_set  test_set.json  train_set  train_set.json  val_set  val_set.json\n"
          ]
        }
      ],
      "source": [
        "!ls \"/content/gdrive/MyDrive/ROAD-Agent-Detection\""
      ]
    }
  ],
  "metadata": {
    "colab": {
      "provenance": []
    },
    "kernelspec": {
      "display_name": "salman",
      "language": "python",
      "name": "python3"
    },
    "language_info": {
      "name": "python",
      "version": "3.6.12"
    },
    "vscode": {
      "interpreter": {
        "hash": "ff60965f0e0854233dd7a8dcdeb1407f85d83fa318b38a1541297fb3d323cb57"
      }
    }
  },
  "nbformat": 4,
  "nbformat_minor": 0
}
