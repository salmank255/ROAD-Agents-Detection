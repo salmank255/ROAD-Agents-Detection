{
  "cells": [
    {
      "attachments": {},
      "cell_type": "markdown",
      "metadata": {
        "id": "7hicbFF8tu8E"
      },
      "source": [
        "Firstly, create a shortcut of ROAD-Agent-Detection folder https://drive.google.com/drive/folders/1Y1XcSpdMU-vHnF_RjwQ-XAgJ2ovGBk61?usp=sharing , then run this:"
      ]
    },
    {
      "cell_type": "code",
      "execution_count": null,
      "metadata": {
        "colab": {
          "base_uri": "https://localhost:8080/"
        },
        "id": "pW1QFG44ttMx",
        "outputId": "4ea5f8cf-4fc7-445d-a995-597983c1258f"
      },
      "outputs": [],
      "source": [
        "from google.colab import drive\n",
        "drive.mount('/content/gdrive')"
      ]
    },
    {
      "cell_type": "markdown",
      "metadata": {
        "id": "6wV2HrM2tt8y"
      },
      "source": [
        "Next, check all the directories and files inside \"ROAD-Agent-Detection\""
      ]
    },
    {
      "cell_type": "code",
      "execution_count": 4,
      "metadata": {
        "colab": {
          "base_uri": "https://localhost:8080/"
        },
        "id": "1hVcs-FawVK5",
        "outputId": "b76ab40e-9dfd-4a81-abd0-fb777c84028d"
      },
      "outputs": [
        {
          "name": "stdout",
          "output_type": "stream",
          "text": [
            "test_set  test_set.json  train_set  train_set.json  val_set  val_set.json\n"
          ]
        }
      ],
      "source": [
        "!ls \"/content/gdrive/MyDrive/ROAD-Dataset\""
      ]
    }
  ],
  "metadata": {
    "colab": {
      "provenance": []
    },
    "kernelspec": {
      "display_name": "salman",
      "language": "python",
      "name": "python3"
    },
    "language_info": {
      "name": "python",
      "version": "3.6.12"
    },
    "vscode": {
      "interpreter": {
        "hash": "ff60965f0e0854233dd7a8dcdeb1407f85d83fa318b38a1541297fb3d323cb57"
      }
    }
  },
  "nbformat": 4,
  "nbformat_minor": 0
}
